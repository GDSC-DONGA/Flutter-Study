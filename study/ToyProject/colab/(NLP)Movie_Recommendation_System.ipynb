{
  "cells": [
    {
      "cell_type": "markdown",
      "id": "91a081df",
      "metadata": {
        "id": "91a081df"
      },
      "source": [
        "본 자료는 다음 링크의 내용을 참고하였습니다.\n",
        "\n",
        "- Reference : https://www.kaggle.com/code/ibtesama/getting-started-with-a-movie-recommendation-system\n",
        "- TMDB 5000 에서 수많은 영화 추천 게시글중 인기있는 예시를 가져온것이다.\n",
        "- TMDB 5000은 TMDB에 영화 5000개를 데이터로 사용할 수 있게 데이터 셋 해둔 사이트이다.\n",
        "- 출처 : [유튜버 나도코딩](https://www.youtube.com/watch?v=TNcfJHajqJY) 영상 참고"
      ]
    },
    {
      "cell_type": "markdown",
      "id": "be41e371",
      "metadata": {
        "id": "be41e371"
      },
      "source": [
        "# 영화 추천 시스템"
      ]
    },
    {
      "cell_type": "markdown",
      "id": "5fadc8e8",
      "metadata": {
        "id": "5fadc8e8"
      },
      "source": [
        "1. Demographic Filtering (인구통계학적 필터링)\n",
        "1. Content Based Filtering (컨텐츠 기반 필터링)\n",
        "1. Collaborative Filtering (협업 필터링)\n",
        "\n",
        "이 중에서 컨텐츠 기반 필터링 방식 사용 => 줄거리 기반으로 사용"
      ]
    },
    {
      "cell_type": "markdown",
      "source": [
        "## 1. Dataset"
      ],
      "metadata": {
        "id": "EzLzN8TIIZWZ"
      },
      "id": "EzLzN8TIIZWZ"
    },
    {
      "cell_type": "code",
      "source": [
        "# drive mount\n",
        "from google.colab import drive\n",
        "drive.mount('/content/drive')"
      ],
      "metadata": {
        "colab": {
          "base_uri": "https://localhost:8080/"
        },
        "id": "TIriQqsXImpW",
        "outputId": "eb795492-ea4f-4924-d29b-45bf49aeaf91"
      },
      "id": "TIriQqsXImpW",
      "execution_count": null,
      "outputs": [
        {
          "output_type": "stream",
          "name": "stdout",
          "text": [
            "Mounted at /content/drive\n"
          ]
        }
      ]
    },
    {
      "cell_type": "code",
      "source": [
        "import pandas as pd\n",
        "import numpy as np\n",
        "\n",
        "df = pd.read_csv('/content/drive/MyDrive/Colab Notebooks/Flutter Toy Project/dataset/tmdb_5000_movies.csv')"
      ],
      "metadata": {
        "id": "VT4mMs9OI9Ge"
      },
      "id": "VT4mMs9OI9Ge",
      "execution_count": null,
      "outputs": []
    },
    {
      "cell_type": "markdown",
      "id": "f5029db5",
      "metadata": {
        "id": "f5029db5"
      },
      "source": [
        "## 2. Content Based Filtering (컨텐츠 기반 필터링)\n",
        "컨텐츠의 문자들을 유사도를 통해서 유사도가 상위인 데이터들 가져오는 형식\n",
        "\n",
        "* `CountVectorizer` 미사용\n",
        "  * 단어의 빈도수를 단순 카운트\n",
        "  * 불용어도 따로 제거 가능(사용자 마음)\n",
        "* `TfidfVectorizer(TF-IDF 기반의 벡터화)` 사용\n",
        "  * 단어의 빈도수를 단순 카운트\n",
        "  * 불용어 제거가 자동으로 라이브러리에 내장\n",
        "    * 이는 자동으로 많은 불용어를 제거\n",
        "  * 즉, 많은 문서 데이터가 있을경우 이 방식이 탁월하다는 것"
      ]
    },
    {
      "cell_type": "markdown",
      "id": "dcdf53b8",
      "metadata": {
        "id": "dcdf53b8"
      },
      "source": [
        "### 줄거리 기반 추천\n",
        "'overview'"
      ]
    },
    {
      "cell_type": "code",
      "execution_count": null,
      "id": "17cdcb6a",
      "metadata": {
        "id": "17cdcb6a",
        "outputId": "73893c8b-f35e-4b7c-bd06-8f6d8d1d7db5",
        "colab": {
          "base_uri": "https://localhost:8080/"
        }
      },
      "outputs": [
        {
          "output_type": "execute_result",
          "data": {
            "text/plain": [
              "0    In the 22nd century, a paraplegic Marine is di...\n",
              "1    Captain Barbossa, long believed to be dead, ha...\n",
              "2    A cryptic message from Bond’s past sends him o...\n",
              "3    Following the death of District Attorney Harve...\n",
              "4    John Carter is a war-weary, former military ca...\n",
              "Name: overview, dtype: object"
            ]
          },
          "metadata": {},
          "execution_count": 9
        }
      ],
      "source": [
        "df['overview'].head(5)"
      ]
    },
    {
      "cell_type": "markdown",
      "id": "3850ea6b",
      "metadata": {
        "id": "3850ea6b"
      },
      "source": [
        "`TfidfVectorizer (TF-IDF 기반의 벡터화)`은 a, the 등등 어디 문서에서든 많이 나오므로 필요없는 이 영어들은 제외하고 나머지에서 위처럼 단어들을 필터링 해주는 방식을 의미\n",
        "\n",
        "영화 줄거리는 이런 영어들 많이 사용하므로 이 기술을 사용"
      ]
    },
    {
      "cell_type": "code",
      "execution_count": null,
      "id": "6703ccc8",
      "metadata": {
        "id": "6703ccc8"
      },
      "outputs": [],
      "source": [
        "from sklearn.feature_extraction.text import TfidfVectorizer\n",
        "from sklearn.feature_extraction.text import ENGLISH_STOP_WORDS\n",
        "\n",
        "tfidf = TfidfVectorizer(stop_words='english') # 필요없는 영어들 제외\n",
        "# ENGLISH_STOP_WORDS # 무엇을 제외했는지 보는 방법"
      ]
    },
    {
      "cell_type": "markdown",
      "source": [
        "DataFrame에 NaN 데이터 있는지 확인 및 '' 변환\n",
        "* `pandas.DataFrame.isnull().values` 로 확인\n",
        "  * 데이터 프레임의 NumPy 표현을 반환(T/F로)\n",
        "* `numpy.any()` 로 요소 중 하나라도 `True` 라면 `True` 를 반환\n",
        "* `fillna()` 로 DataFrame에 NaN(결측치) 를 찾아서 값을 바꿔줌"
      ],
      "metadata": {
        "id": "saLz2vJpXHmZ"
      },
      "id": "saLz2vJpXHmZ"
    },
    {
      "cell_type": "code",
      "execution_count": null,
      "id": "57f24624",
      "metadata": {
        "id": "57f24624"
      },
      "outputs": [],
      "source": [
        "# null 이 하나라도 있다면 true 반환\n",
        "# for i in df['overview'].isnull().values:\n",
        "#   if(i == True):\n",
        "#     print(\"True\")\n",
        "#     break\n",
        "\n",
        "df['overview'].isnull().values.any() # 위 주석을 한줄로 표현한 코드\n",
        "\n",
        "# null 값을 찾아서 '' 값으로 삽입\n",
        "df['overview'] = df['overview'].fillna('')"
      ]
    },
    {
      "cell_type": "code",
      "execution_count": null,
      "id": "09b708fa",
      "metadata": {
        "id": "09b708fa",
        "outputId": "1815ad8f-169c-40d8-fd5b-6799234ae34d",
        "colab": {
          "base_uri": "https://localhost:8080/"
        }
      },
      "outputs": [
        {
          "output_type": "execute_result",
          "data": {
            "text/plain": [
              "(4803, 20978)"
            ]
          },
          "metadata": {},
          "execution_count": 20
        }
      ],
      "source": [
        "# 모든 영화들 줄거리 내용을 띄어쓰기로 각각 단어로 분리했을때 20978개(중복포함)\n",
        "tfidf_matrix = tfidf.fit_transform(df['overview'])\n",
        "tfidf_matrix.shape # 20978개의 단어들이 모여 4803개의 문장이 된 것"
      ]
    },
    {
      "cell_type": "markdown",
      "source": [
        "행렬과 행렬을 넣어주어 서로의 유사도를 계산\n",
        "* 코사인 유사도는 얼마나 유사한 방향의 벡터를 가지는지의 정도"
      ],
      "metadata": {
        "id": "i71zeIHRakyl"
      },
      "id": "i71zeIHRakyl"
    },
    {
      "cell_type": "code",
      "execution_count": null,
      "id": "47dca84f",
      "metadata": {
        "id": "47dca84f",
        "outputId": "e85e4933-8a5f-47b3-c7ab-be9bb13ca757",
        "colab": {
          "base_uri": "https://localhost:8080/"
        }
      },
      "outputs": [
        {
          "output_type": "execute_result",
          "data": {
            "text/plain": [
              "array([[1.        , 0.        , 0.        , ..., 0.        , 0.        ,\n",
              "        0.        ],\n",
              "       [0.        , 1.        , 0.        , ..., 0.02160533, 0.        ,\n",
              "        0.        ],\n",
              "       [0.        , 0.        , 1.        , ..., 0.01488159, 0.        ,\n",
              "        0.        ],\n",
              "       ...,\n",
              "       [0.        , 0.02160533, 0.01488159, ..., 1.        , 0.01609091,\n",
              "        0.00701914],\n",
              "       [0.        , 0.        , 0.        , ..., 0.01609091, 1.        ,\n",
              "        0.01171696],\n",
              "       [0.        , 0.        , 0.        , ..., 0.00701914, 0.01171696,\n",
              "        1.        ]])"
            ]
          },
          "metadata": {},
          "execution_count": 24
        }
      ],
      "source": [
        "# 신뢰도 - 코사인 유사도\n",
        "from sklearn.metrics.pairwise import linear_kernel\n",
        "\n",
        "cosine_matrix = linear_kernel(tfidf_matrix, tfidf_matrix)\n",
        "cosine_matrix # 대각선은 같은 데이터니까 1 출력"
      ]
    },
    {
      "cell_type": "code",
      "execution_count": null,
      "id": "2ede70e5",
      "metadata": {
        "id": "2ede70e5",
        "outputId": "c63511fd-e161-4378-950e-18e049a88c9d",
        "colab": {
          "base_uri": "https://localhost:8080/"
        }
      },
      "outputs": [
        {
          "output_type": "execute_result",
          "data": {
            "text/plain": [
              "(4803, 4803)"
            ]
          },
          "metadata": {},
          "execution_count": 22
        }
      ],
      "source": [
        "# 크기\n",
        "cosine_matrix.shape # 대칭"
      ]
    },
    {
      "cell_type": "code",
      "execution_count": null,
      "id": "f120d98f",
      "metadata": {
        "id": "f120d98f",
        "outputId": "c304e12b-d326-48da-8304-a8307dafc43d",
        "colab": {
          "base_uri": "https://localhost:8080/"
        }
      },
      "outputs": [
        {
          "output_type": "execute_result",
          "data": {
            "text/plain": [
              "title\n",
              "Avatar                                         0\n",
              "Pirates of the Caribbean: At World's End       1\n",
              "Spectre                                        2\n",
              "The Dark Knight Rises                          3\n",
              "John Carter                                    4\n",
              "                                            ... \n",
              "El Mariachi                                 4798\n",
              "Newlyweds                                   4799\n",
              "Signed, Sealed, Delivered                   4800\n",
              "Shanghai Calling                            4801\n",
              "My Date with Drew                           4802\n",
              "Length: 4803, dtype: int64"
            ]
          },
          "metadata": {},
          "execution_count": 26
        }
      ],
      "source": [
        "# 참고 : Series는 1차원 배열로 생각\n",
        "indices = pd.Series(df.index, index=df['title']).drop_duplicates()\n",
        "indices # 제목만 따로 구해둔 것"
      ]
    },
    {
      "cell_type": "markdown",
      "source": [
        "`cosine_matrix` 를 구했기 때문에 이제 활용만 하면 된다.\n",
        "* 따라서 영화 추천받는 함수를 제작하자.\n",
        "  * 입력 : 영화제목\n",
        "  * 출력 : `cosine_matrix` 로 구한 추천 영화 5개"
      ],
      "metadata": {
        "id": "4j2t1wnZbs6U"
      },
      "id": "4j2t1wnZbs6U"
    },
    {
      "cell_type": "code",
      "execution_count": null,
      "id": "09bbede4",
      "metadata": {
        "id": "09bbede4"
      },
      "outputs": [],
      "source": [
        "def get_recommendations(title, cosine_sim=cosine_matrix):\n",
        "    index = indices[title] # 입력 받는 영화의 index 구하기\n",
        "    \n",
        "    # 코사인 유사도 매트릭스 (cosine_sim) 에서 idx 에 해당하는 데이터를 (idx, 유사도) 형태로 얻기\n",
        "    sim_scores = list(enumerate(cosine_sim[index])) # enumerate는 열거\n",
        "    \n",
        "    # 코사인 유사도 기준으로 내림차순 정렬\n",
        "    sim_scores = sorted(sim_scores, key=lambda x: x[1], reverse=True)\n",
        "    \n",
        "    # 자기 자신을 제외한 5개의 추천 영화를 슬라이싱\n",
        "    sim_scores = sim_scores[1:6]\n",
        "    \n",
        "    # 추천 영화 목록 5개의 인덱스 정보 추출\n",
        "    movie_indices = [i[0] for i in sim_scores]\n",
        "    \n",
        "    # 인덱스 정보를 통해 영화 제목 추출\n",
        "    return df['title'].iloc[movie_indices]"
      ]
    },
    {
      "cell_type": "code",
      "execution_count": null,
      "id": "3936bc4a",
      "metadata": {
        "id": "3936bc4a",
        "outputId": "197a2d03-35c8-4dd8-cfae-d248234f7e3f"
      },
      "outputs": [
        {
          "name": "stdout",
          "output_type": "stream",
          "text": [
            "유사도\n"
          ]
        }
      ],
      "source": [
        "# 람다식 사용방식 보여주기위함\n",
        "def get_second(x):\n",
        "    return x[1]\n",
        "\n",
        "lst = ['인덱스', '유사도']\n",
        "print(get_second(lst))"
      ]
    },
    {
      "cell_type": "code",
      "execution_count": null,
      "id": "015ca43d",
      "metadata": {
        "id": "015ca43d",
        "outputId": "49b732c7-3c87-4908-cc82-429807c3e08f"
      },
      "outputs": [
        {
          "data": {
            "text/plain": [
              "'유사도'"
            ]
          },
          "execution_count": 48,
          "metadata": {},
          "output_type": "execute_result"
        }
      ],
      "source": [
        "# 람다식 사용방식 보여주기위함\n",
        "# x[1]로 함수를 만든거고 lst가 x로 사용된거라고 생각하면 됨\n",
        "(lambda x: x[1])(lst)\n",
        "\n",
        "# 따라서 위에서 정렬할 때 유사도 기준으로 정렬하기 위해 간단히 람다식을 적용한 것"
      ]
    },
    {
      "cell_type": "code",
      "execution_count": null,
      "id": "84058c9b",
      "metadata": {
        "id": "84058c9b",
        "outputId": "7d38439d-4a3b-4658-89b1-78cfe275b11a",
        "colab": {
          "base_uri": "https://localhost:8080/"
        }
      },
      "outputs": [
        {
          "output_type": "execute_result",
          "data": {
            "text/plain": [
              "16                   The Avengers\n",
              "79                     Iron Man 2\n",
              "68                       Iron Man\n",
              "26     Captain America: Civil War\n",
              "227                Knight and Day\n",
              "Name: title, dtype: object"
            ]
          },
          "metadata": {},
          "execution_count": 30
        }
      ],
      "source": [
        "# 함수 test\n",
        "get_recommendations('Avengers: Age of Ultron')"
      ]
    },
    {
      "cell_type": "markdown",
      "source": [
        "## 결과\n",
        "\n",
        "찜목록에 영화 4개 있다고 가정하고, 4개 영화로 추천된 영화들 총 20개 영화 데이터들을 얻게 될것이며 이를 Flutter에 바로 넣겠다.\n",
        "\n",
        "* 현재 데이터를 옛날 거로 사용했기 때문에, 찜목록 4개도 임의로 지정\n",
        "  * `Avengers: Age of Ultron`\n",
        "  * `Batman`\n",
        "  * `Avatar`\n",
        "  * `The Avengers`"
      ],
      "metadata": {
        "id": "SVWLOMYSeh78"
      },
      "id": "SVWLOMYSeh78"
    },
    {
      "cell_type": "code",
      "source": [
        "print(get_recommendations('Avengers: Age of Ultron'))\n",
        "print()\n",
        "print(get_recommendations('Iron Man'))\n",
        "print()\n",
        "print(get_recommendations('Avatar'))\n",
        "print()\n",
        "print(get_recommendations('The Avengers'))"
      ],
      "metadata": {
        "colab": {
          "base_uri": "https://localhost:8080/"
        },
        "id": "37NYInpxenti",
        "outputId": "9b0a624a-e111-40d0-e541-37b1bc9fc3bf"
      },
      "id": "37NYInpxenti",
      "execution_count": null,
      "outputs": [
        {
          "output_type": "stream",
          "name": "stdout",
          "text": [
            "16                   The Avengers\n",
            "79                     Iron Man 2\n",
            "68                       Iron Man\n",
            "26     Captain America: Civil War\n",
            "227                Knight and Day\n",
            "Name: title, dtype: object\n",
            "\n",
            "79                   Iron Man 2\n",
            "31                   Iron Man 3\n",
            "1868         Cradle 2 the Grave\n",
            "7       Avengers: Age of Ultron\n",
            "538                     Hostage\n",
            "Name: title, dtype: object\n",
            "\n",
            "3604               Apollo 18\n",
            "2130            The American\n",
            "634               The Matrix\n",
            "1341    The Inhabited Island\n",
            "529         Tears of the Sun\n",
            "Name: title, dtype: object\n",
            "\n",
            "7       Avengers: Age of Ultron\n",
            "3144                    Plastic\n",
            "1715                    Timecop\n",
            "4124         This Thing of Ours\n",
            "3311      Thank You for Smoking\n",
            "Name: title, dtype: object\n"
          ]
        }
      ]
    }
  ],
  "metadata": {
    "kernelspec": {
      "display_name": "Python 3.9.7 ('base')",
      "language": "python",
      "name": "python3"
    },
    "language_info": {
      "codemirror_mode": {
        "name": "ipython",
        "version": 3
      },
      "file_extension": ".py",
      "mimetype": "text/x-python",
      "name": "python",
      "nbconvert_exporter": "python",
      "pygments_lexer": "ipython3",
      "version": "3.9.7"
    },
    "vscode": {
      "interpreter": {
        "hash": "f6155417d86712c91a7f6ddbe9f12b9c1cd8e0bf01206fa435d4ceef064a8bb9"
      }
    },
    "colab": {
      "provenance": []
    }
  },
  "nbformat": 4,
  "nbformat_minor": 5
}